{
 "cells": [
  {
   "cell_type": "markdown",
   "id": "30e9ce05",
   "metadata": {},
   "source": [
    "# Laboratory exercise 4\n",
    "\n",
    "In this laboratory exercise you will use the questionnaire and answers given below"
   ]
  },
  {
   "cell_type": "code",
   "execution_count": 1,
   "id": "d6820020",
   "metadata": {},
   "outputs": [],
   "source": [
    "import pandas as pd\n",
    "import numpy as np\n",
    "import pingouin as pg\n"
   ]
  },
  {
   "cell_type": "code",
   "execution_count": 2,
   "id": "c53f916c",
   "metadata": {},
   "outputs": [],
   "source": [
    "questionnaire = pd.DataFrame({'Q1': [1, 2, 2, 3, 2, 2, 3, 3, 2, 3],\n",
    "                              'Q2': [1, 1, 1, 2, 3, 3, 2, 3, 3, 3],\n",
    "                              'Q3': [1, 1, 2, 1, 2, 3, 3, 3, 2, 3]})"
   ]
  },
  {
   "cell_type": "markdown",
   "id": "ce36a49d",
   "metadata": {},
   "source": [
    "1. Write a function to detrmine the realiability of the questionnaire answers with Cronbach's Alpha."
   ]
  },
  {
   "cell_type": "code",
   "execution_count": 3,
   "id": "561ae463",
   "metadata": {},
   "outputs": [
    {
     "data": {
      "text/plain": [
       "(0.7734375, array([0.336, 0.939]))"
      ]
     },
     "execution_count": 3,
     "metadata": {},
     "output_type": "execute_result"
    }
   ],
   "source": [
    "pg.cronbach_alpha(data=questionnaire, ci=.95) #confidence interval is set to 95%, alpha of 0.77 is considered acceptable"
   ]
  },
  {
   "cell_type": "markdown",
   "id": "69cb9d0a",
   "metadata": {},
   "source": [
    "2. Explain the differences between in-house data labeling, crowdsourcing and outsourcing. "
   ]
  },
  {
   "cell_type": "markdown",
   "id": "5994ff40",
   "metadata": {},
   "source": [
    "In-house data labeling refers to the process of annotating or labeling data using an organization's internal resources. \n",
    "\n",
    "Crowdsourcing involves outsourcing tasks, including data labeling, to a large, distributed group of people, often through an online platform. Workers from diverse backgrounds contribute to completing the labeling tasks.\n",
    "\n",
    "Outsourcing involves hiring external third-party service providers to perform specific tasks, including data labeling. This can be done domestically or internationally."
   ]
  },
  {
   "cell_type": "markdown",
   "id": "ce3d3e91",
   "metadata": {},
   "source": [
    "3. Explain the main differences between annotation for image classification, object detection and image segmentation."
   ]
  },
  {
   "cell_type": "markdown",
   "id": "f88c14d7",
   "metadata": {},
   "source": [
    "Image classification involves categorizing an entire image into a predefined set of classes or categories. The goal is to assign a single label to the entire image based on its content.\n",
    "\n",
    "Object detection involves identifying and locating multiple objects within an image. The goal is to recognize and draw bounding boxes around each object of interest.\n",
    "\n",
    "Image segmentation involves partitioning an image into multiple segments or regions, where each segment corresponds to a distinct object or area. The goal is to provide a pixel-level understanding of the image."
   ]
  },
  {
   "cell_type": "code",
   "execution_count": null,
   "id": "124ca06b",
   "metadata": {},
   "outputs": [],
   "source": []
  }
 ],
 "metadata": {
  "kernelspec": {
   "display_name": "Python 3 (ipykernel)",
   "language": "python",
   "name": "python3"
  },
  "language_info": {
   "codemirror_mode": {
    "name": "ipython",
    "version": 3
   },
   "file_extension": ".py",
   "mimetype": "text/x-python",
   "name": "python",
   "nbconvert_exporter": "python",
   "pygments_lexer": "ipython3",
   "version": "3.11.5"
  }
 },
 "nbformat": 4,
 "nbformat_minor": 5
}
